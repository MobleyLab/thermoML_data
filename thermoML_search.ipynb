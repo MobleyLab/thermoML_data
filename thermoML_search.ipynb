{
 "cells": [
  {
   "cell_type": "code",
   "execution_count": 1,
   "metadata": {
    "collapsed": true
   },
   "outputs": [],
   "source": [
    "import thermopyl as th\n",
    "from thermopyl import thermoml_lib\n",
    "from thermopyl.utils import pandas_dataframe\n",
    "import cirpy\n",
    "import numpy as np\n",
    "import pandas as pd\n",
    "from sklearn.externals.joblib import Memory\n",
    "from os import getcwd"
   ]
  },
  {
   "cell_type": "code",
   "execution_count": 2,
   "metadata": {
    "collapsed": true
   },
   "outputs": [],
   "source": [
    "mem = Memory(cachedir=\"/Users/guilhermematos/.thermoml/\")\n",
    "@mem.cache\n",
    "def resolve_cached(x, rtype):\n",
    "    return cirpy.resolve(x, rtype)"
   ]
  },
  {
   "cell_type": "code",
   "execution_count": 3,
   "metadata": {
    "collapsed": true
   },
   "outputs": [],
   "source": [
    "df = pandas_dataframe()"
   ]
  },
  {
   "cell_type": "code",
   "execution_count": 4,
   "metadata": {
    "collapsed": true
   },
   "outputs": [],
   "source": [
    "bad_filenames = [\"/Users/guilhermematos/.thermoml/j.fluid.2013.12.014.xml\"]\n",
    "df = df[~df.filename.isin(bad_filenames)]"
   ]
  },
  {
   "cell_type": "code",
   "execution_count": 5,
   "metadata": {
    "collapsed": true
   },
   "outputs": [],
   "source": [
    "experiments = [\"Activity coefficient\",\"(Relative) activity\"]"
   ]
  },
  {
   "cell_type": "code",
   "execution_count": 6,
   "metadata": {
    "collapsed": true
   },
   "outputs": [],
   "source": [
    "ind_list = [df[exp].dropna().index for exp in experiments]\n",
    "ind = reduce(lambda x,y: x.union(y), ind_list)\n",
    "df = df.loc[ind]"
   ]
  },
  {
   "cell_type": "code",
   "execution_count": 7,
   "metadata": {
    "collapsed": true
   },
   "outputs": [],
   "source": [
    "# Extract rows with two components\n",
    "df[\"n_components\"] = df.components.apply(lambda x: len(x.split(\"__\")))\n",
    "df = df[df.n_components == 2]\n",
    "df.dropna(axis=1, how='all', inplace=True)"
   ]
  },
  {
   "cell_type": "code",
   "execution_count": 8,
   "metadata": {
    "collapsed": true
   },
   "outputs": [],
   "source": [
    "# Separate components nominally\n",
    "df[\"component_0\"] = df.components.apply(lambda x: x.split(\"__\")[0])\n",
    "df[\"component_1\"] = df.components.apply(lambda x: x.split(\"__\")[1])"
   ]
  },
  {
   "cell_type": "code",
   "execution_count": 9,
   "metadata": {
    "collapsed": true
   },
   "outputs": [],
   "source": [
    "# Find names\n",
    "name_to_formula = pd.read_hdf(\"/Users/guilhermematos/.thermoml/compound_name_to_formula.h5\", 'data')\n",
    "name_to_formula = name_to_formula.dropna()"
   ]
  },
  {
   "cell_type": "code",
   "execution_count": 10,
   "metadata": {
    "collapsed": true
   },
   "outputs": [],
   "source": [
    "# Add formulas to the table\n",
    "df[\"formula_0\"] = df.component_0.apply(lambda chemical: name_to_formula[chemical])\n",
    "df[\"formula_1\"] = df.component_1.apply(lambda chemical: name_to_formula[chemical])"
   ]
  },
  {
   "cell_type": "code",
   "execution_count": 11,
   "metadata": {
    "collapsed": true
   },
   "outputs": [],
   "source": [
    "heavy_atoms = [\"C\",\"O\",\"N\",\"P\",\"S\",\"Cl\",\"F\"]\n",
    "desired_atoms = [\"H\"] + heavy_atoms"
   ]
  },
  {
   "cell_type": "code",
   "execution_count": 12,
   "metadata": {
    "collapsed": true
   },
   "outputs": [],
   "source": [
    "# Add extra information\n",
    "df[\"n_atoms_0\"] = df.formula_0.apply(lambda formula_string : thermoml_lib.count_atoms(formula_string))\n",
    "df[\"n_heavy_atoms_0\"] = df.formula_0.apply(lambda formula_string : thermoml_lib.count_atoms_in_set(formula_string, heavy_atoms))\n",
    "df[\"n_desired_atoms_0\"] = df.formula_0.apply(lambda formula_string : thermoml_lib.count_atoms_in_set(formula_string, desired_atoms))\n",
    "df[\"n_other_atoms_0\"] = df.n_atoms_0 - df.n_desired_atoms_0\n",
    "\n",
    "df[\"n_atoms_1\"] = df.formula_1.apply(lambda formula_string : thermoml_lib.count_atoms(formula_string))\n",
    "df[\"n_heavy_atoms_1\"] = df.formula_1.apply(lambda formula_string : thermoml_lib.count_atoms_in_set(formula_string, heavy_atoms))\n",
    "df[\"n_desired_atoms_1\"] = df.formula_1.apply(lambda formula_string : thermoml_lib.count_atoms_in_set(formula_string, desired_atoms))\n",
    "df[\"n_other_atoms_1\"] = df.n_atoms_1 - df.n_desired_atoms_1"
   ]
  },
  {
   "cell_type": "code",
   "execution_count": 13,
   "metadata": {
    "collapsed": true
   },
   "outputs": [],
   "source": [
    "# Remove systems that have atoms outside `desired_atoms`\n",
    "df = df[df.n_other_atoms_0 == 0]\n",
    "df = df[df.n_other_atoms_1 == 0]\n",
    "df.dropna(axis=1, how='all', inplace=True)"
   ]
  },
  {
   "cell_type": "code",
   "execution_count": 14,
   "metadata": {
    "collapsed": true
   },
   "outputs": [],
   "source": [
    "# Add SMILES string for each component\n",
    "df[\"SMILES_0\"] = df.component_0.apply(lambda x: resolve_cached(x, \"smiles\"))\n",
    "df = df[df.SMILES_0 != None]\n",
    "df.dropna(subset=[\"SMILES_0\"], inplace=True)\n",
    "df = df.loc[df.SMILES_0.dropna().index]\n",
    "\n",
    "df[\"SMILES_1\"] = df.component_1.apply(lambda x: resolve_cached(x, \"smiles\"))\n",
    "df = df[df.SMILES_1 != None]\n",
    "df.dropna(subset=[\"SMILES_1\"], inplace=True)\n",
    "df = df.loc[df.SMILES_1.dropna().index]"
   ]
  },
  {
   "cell_type": "code",
   "execution_count": 15,
   "metadata": {
    "collapsed": true
   },
   "outputs": [],
   "source": [
    "df[\"cas_0\"] = df.component_0.apply(lambda x: thermoml_lib.get_first_entry(resolve_cached(x, \"cas\")))\n",
    "df[\"InChI_0\"] = df.component_0.apply(lambda x: thermoml_lib.get_first_entry(resolve_cached(x, \"stdinchikey\")))\n",
    "\n",
    "df[\"cas_1\"] = df.component_1.apply(lambda x: thermoml_lib.get_first_entry(resolve_cached(x, \"cas\")))\n",
    "df[\"InChI_1\"] = df.component_1.apply(lambda x: thermoml_lib.get_first_entry(resolve_cached(x, \"stdinchikey\")))\n",
    "\n",
    "df = df[df.cas_0 != None]\n",
    "df = df.loc[df.cas_0.dropna().index]\n",
    "df = df[df.cas_1 != None]\n",
    "df = df.loc[df.cas_1.dropna().index]"
   ]
  },
  {
   "cell_type": "code",
   "execution_count": 16,
   "metadata": {
    "collapsed": true
   },
   "outputs": [],
   "source": [
    "#Extract rows with temperatures between 250 and 400 K\n",
    "df = df[df['Temperature, K'] > 250.]\n",
    "df = df[df['Temperature, K'] < 400.]"
   ]
  },
  {
   "cell_type": "code",
   "execution_count": 17,
   "metadata": {
    "collapsed": true
   },
   "outputs": [],
   "source": [
    "# Extract rows with pressure between 101.325 kPa and 101325 kPa\n",
    "df = df[df['Pressure, kPa'] > 100.]\n",
    "df = df[df['Pressure, kPa'] < 102000.]"
   ]
  },
  {
   "cell_type": "code",
   "execution_count": 18,
   "metadata": {
    "collapsed": true
   },
   "outputs": [],
   "source": [
    "# Strip rows not in liquid phase\n",
    "df = df[df['phase']=='Liquid']"
   ]
  },
  {
   "cell_type": "code",
   "execution_count": 19,
   "metadata": {
    "collapsed": true
   },
   "outputs": [],
   "source": [
    "# Cleanup\n",
    "df.dropna(axis=1, how='all', inplace=True)"
   ]
  },
  {
   "cell_type": "code",
   "execution_count": 20,
   "metadata": {
    "collapsed": true
   },
   "outputs": [],
   "source": [
    "# Rename\n",
    "df[\"filename\"] = df[\"filename\"].map(lambda x: x.lstrip('/Users/guilhermematos/.thermoml/').rstrip('.xml'))"
   ]
  },
  {
   "cell_type": "code",
   "execution_count": 21,
   "metadata": {
    "collapsed": true
   },
   "outputs": [],
   "source": [
    "# More cleanup\n",
    "df = df[df.n_heavy_atoms_0 > 0]\n",
    "df = df[df.n_heavy_atoms_0 <= 40]\n",
    "df = df[df.n_heavy_atoms_1 > 0]\n",
    "df = df[df.n_heavy_atoms_1 <= 40]\n",
    "df.dropna(axis=1, how='all', inplace=True)"
   ]
  },
  {
   "cell_type": "code",
   "execution_count": 22,
   "metadata": {
    "collapsed": true
   },
   "outputs": [],
   "source": [
    "# Get data that contains mole fractions\n",
    "ind_f = df[\"Mole fraction\"].dropna().index\n",
    "df_fraction = df.loc[ind_f]\n",
    "df_fraction.dropna(axis=1, how='all', inplace=True)"
   ]
  },
  {
   "cell_type": "code",
   "execution_count": 24,
   "metadata": {
    "collapsed": true
   },
   "outputs": [],
   "source": [
    "keys = [\"filename\",\"component_0\",\"component_1\",\"SMILES_0\",\"SMILES_1\",\"cas_0\",\n",
    "        \"cas_1\",\"InChI_0\",\"InChI_1\",\"Temperature, K\",\"Pressure, kPa\",\n",
    "        \"Activity coefficient\",\"Activity coefficient_std\",\n",
    "        \"Mole fraction\"]\n",
    "\n",
    "dfnew = pd.concat([df_fraction['filename'],df_fraction['component_0'],df_fraction['component_1'],\n",
    "                   df_fraction['SMILES_0'],df_fraction['SMILES_1'],df_fraction[\"cas_0\"],\n",
    "                   df_fraction[\"cas_1\"],df_fraction[\"InChI_0\"],df_fraction[\"InChI_1\"],\n",
    "                   df_fraction[\"Temperature, K\"],df_fraction[\"Pressure, kPa\"],\n",
    "                   df_fraction[\"Activity coefficient\"],df_fraction[\"Activity coefficient_std\"],\n",
    "                   df_fraction[\"Mole fraction\"]], \n",
    "                   axis = 1, keys = keys)\n",
    "\n",
    "a = dfnew[\"filename\"].value_counts()\n",
    "a = a.reset_index()\n",
    "a.rename(columns={\"index\":\"Filename\", \"filename\":\"Count\"},inplace=True)\n",
    "\n",
    "b0 = dfnew[\"InChI_0\"].value_counts()\n",
    "b0 = b0.reset_index()\n",
    "b0.rename(columns={\"index\":\"InChI\",\"InChI\":\"Count\"},inplace=True)\n",
    "b0[\"Component\"] = b0.InChI.apply(lambda x: resolve_cached(x, \"iupac_name\"))\n",
    "b0[\"SMILES\"] = b0.InChI.apply(lambda x: resolve_cached(x, \"smiles\"))\n",
    "\n",
    "b1 = dfnew[\"InChI_1\"].value_counts()\n",
    "b1 = b1.reset_index()\n",
    "b1.rename(columns={\"index\":\"InChI\",\"InChI\":\"Count\"},inplace=True)\n",
    "b1[\"Component\"] = b1.InChI.apply(lambda x: resolve_cached(x, \"iupac_name\"))\n",
    "b1[\"SMILES\"] = b1.InChI.apply(lambda x: resolve_cached(x, \"smiles\"))"
   ]
  },
  {
   "cell_type": "code",
   "execution_count": 28,
   "metadata": {
    "collapsed": true
   },
   "outputs": [],
   "source": [
    "from os.path import join\n",
    "\n",
    "# Save all data\n",
    "datapath = getcwd()\n",
    "\n",
    "csvall = \"alldata.csv\"\n",
    "pickleall = \"alldata.pickle\"\n",
    "df.to_csv(join(datapath,csvall))\n",
    "df.to_pickle(join(datapath,pickleall))\n",
    "\n",
    "csvfraction = \"molefraction.csv\"\n",
    "picklefraction = \"molefraction.pickle\"\n",
    "df_fraction.to_csv(join(datapath,csvfraction))\n",
    "df_fraction.to_pickle(join(datapath,picklefraction))"
   ]
  },
  {
   "cell_type": "code",
   "execution_count": null,
   "metadata": {
    "collapsed": true
   },
   "outputs": [],
   "source": []
  },
  {
   "cell_type": "code",
   "execution_count": null,
   "metadata": {
    "collapsed": true
   },
   "outputs": [],
   "source": []
  },
  {
   "cell_type": "code",
   "execution_count": null,
   "metadata": {
    "collapsed": true
   },
   "outputs": [],
   "source": []
  },
  {
   "cell_type": "code",
   "execution_count": null,
   "metadata": {
    "collapsed": true
   },
   "outputs": [],
   "source": []
  },
  {
   "cell_type": "code",
   "execution_count": null,
   "metadata": {
    "collapsed": true
   },
   "outputs": [],
   "source": []
  },
  {
   "cell_type": "code",
   "execution_count": null,
   "metadata": {
    "collapsed": true
   },
   "outputs": [],
   "source": []
  },
  {
   "cell_type": "code",
   "execution_count": null,
   "metadata": {
    "collapsed": true
   },
   "outputs": [],
   "source": []
  },
  {
   "cell_type": "code",
   "execution_count": null,
   "metadata": {
    "collapsed": true
   },
   "outputs": [],
   "source": []
  },
  {
   "cell_type": "code",
   "execution_count": null,
   "metadata": {
    "collapsed": true
   },
   "outputs": [],
   "source": []
  },
  {
   "cell_type": "code",
   "execution_count": null,
   "metadata": {
    "collapsed": true
   },
   "outputs": [],
   "source": []
  },
  {
   "cell_type": "code",
   "execution_count": null,
   "metadata": {
    "collapsed": true
   },
   "outputs": [],
   "source": []
  },
  {
   "cell_type": "code",
   "execution_count": null,
   "metadata": {
    "collapsed": true
   },
   "outputs": [],
   "source": []
  },
  {
   "cell_type": "code",
   "execution_count": null,
   "metadata": {
    "collapsed": true
   },
   "outputs": [],
   "source": []
  },
  {
   "cell_type": "code",
   "execution_count": null,
   "metadata": {
    "collapsed": true
   },
   "outputs": [],
   "source": []
  },
  {
   "cell_type": "code",
   "execution_count": null,
   "metadata": {
    "collapsed": true
   },
   "outputs": [],
   "source": []
  }
 ],
 "metadata": {
  "kernelspec": {
   "display_name": "Python 3",
   "language": "python",
   "name": "python3"
  },
  "language_info": {
   "codemirror_mode": {
    "name": "ipython",
    "version": 3
   },
   "file_extension": ".py",
   "mimetype": "text/x-python",
   "name": "python",
   "nbconvert_exporter": "python",
   "pygments_lexer": "ipython3",
   "version": "3.6.1"
  }
 },
 "nbformat": 4,
 "nbformat_minor": 1
}
