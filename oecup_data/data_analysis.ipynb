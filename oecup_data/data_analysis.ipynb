{
 "cells": [
  {
   "cell_type": "code",
   "execution_count": 20,
   "metadata": {},
   "outputs": [],
   "source": [
    "%matplotlib inline\n",
    "\n",
    "import pandas as pd\n",
    "import matplotlib.pyplot as pl\n",
    "import numpy as np\n",
    "\n",
    "from openeye.oechem import *\n",
    "import oenotebook as oenb"
   ]
  },
  {
   "cell_type": "code",
   "execution_count": 21,
   "metadata": {},
   "outputs": [],
   "source": [
    "# import data\n",
    "data = pd.read_pickle(\"infinite_dilution_activity_data.pickle\")"
   ]
  },
  {
   "cell_type": "code",
   "execution_count": 22,
   "metadata": {},
   "outputs": [
    {
     "data": {
      "text/html": [
       "<div>\n",
       "<style scoped>\n",
       "    .dataframe tbody tr th:only-of-type {\n",
       "        vertical-align: middle;\n",
       "    }\n",
       "\n",
       "    .dataframe tbody tr th {\n",
       "        vertical-align: top;\n",
       "    }\n",
       "\n",
       "    .dataframe thead th {\n",
       "        text-align: right;\n",
       "    }\n",
       "</style>\n",
       "<table border=\"1\" class=\"dataframe\">\n",
       "  <thead>\n",
       "    <tr style=\"text-align: right;\">\n",
       "      <th></th>\n",
       "      <th>solutes</th>\n",
       "      <th>solvents</th>\n",
       "      <th>DG_solv</th>\n",
       "      <th>dDG_solv</th>\n",
       "      <th>DG_selfsolv</th>\n",
       "      <th>dDG_selfsolv</th>\n",
       "      <th>temperature</th>\n",
       "      <th>calc_kTlog_idac</th>\n",
       "      <th>dcalc_kTlog_idac</th>\n",
       "      <th>expt_kTlog_idac</th>\n",
       "      <th>d_expt_kTlog_idac</th>\n",
       "    </tr>\n",
       "  </thead>\n",
       "  <tbody>\n",
       "    <tr>\n",
       "      <th>0</th>\n",
       "      <td>CS(=O)C</td>\n",
       "      <td>ClC(Cl)=C(Cl)Cl</td>\n",
       "      <td>-3.538082</td>\n",
       "      <td>0.076863</td>\n",
       "      <td>-7.446608</td>\n",
       "      <td>0.110383</td>\n",
       "      <td>298.00</td>\n",
       "      <td>3.908525</td>\n",
       "      <td>0.611956</td>\n",
       "      <td>1.826774</td>\n",
       "      <td>0.1</td>\n",
       "    </tr>\n",
       "    <tr>\n",
       "      <th>1</th>\n",
       "      <td>CO</td>\n",
       "      <td>c1ccncc1</td>\n",
       "      <td>-3.559755</td>\n",
       "      <td>0.080650</td>\n",
       "      <td>-3.965113</td>\n",
       "      <td>0.089691</td>\n",
       "      <td>298.15</td>\n",
       "      <td>0.405358</td>\n",
       "      <td>0.583680</td>\n",
       "      <td>-0.341777</td>\n",
       "      <td>NaN</td>\n",
       "    </tr>\n",
       "    <tr>\n",
       "      <th>2</th>\n",
       "      <td>COC</td>\n",
       "      <td>c1ccccc1</td>\n",
       "      <td>-2.498030</td>\n",
       "      <td>0.086817</td>\n",
       "      <td>-2.793950</td>\n",
       "      <td>0.053573</td>\n",
       "      <td>279.95</td>\n",
       "      <td>0.295920</td>\n",
       "      <td>0.529887</td>\n",
       "      <td>-0.464866</td>\n",
       "      <td>0.03</td>\n",
       "    </tr>\n",
       "    <tr>\n",
       "      <th>3</th>\n",
       "      <td>CO</td>\n",
       "      <td>Cc1ccncc1</td>\n",
       "      <td>-3.329972</td>\n",
       "      <td>0.079335</td>\n",
       "      <td>-3.965113</td>\n",
       "      <td>0.089691</td>\n",
       "      <td>298.15</td>\n",
       "      <td>0.635141</td>\n",
       "      <td>0.581422</td>\n",
       "      <td>-0.524098</td>\n",
       "      <td>NaN</td>\n",
       "    </tr>\n",
       "    <tr>\n",
       "      <th>4</th>\n",
       "      <td>CCC</td>\n",
       "      <td>C=Cc1ccccc1</td>\n",
       "      <td>-1.504559</td>\n",
       "      <td>0.075084</td>\n",
       "      <td>-2.005266</td>\n",
       "      <td>0.048330</td>\n",
       "      <td>270.07</td>\n",
       "      <td>0.500708</td>\n",
       "      <td>0.496818</td>\n",
       "      <td>0.755752</td>\n",
       "      <td>0.03</td>\n",
       "    </tr>\n",
       "  </tbody>\n",
       "</table>\n",
       "</div>"
      ],
      "text/plain": [
       "   solutes         solvents   DG_solv  dDG_solv  DG_selfsolv  dDG_selfsolv  \\\n",
       "0  CS(=O)C  ClC(Cl)=C(Cl)Cl -3.538082  0.076863    -7.446608      0.110383   \n",
       "1       CO         c1ccncc1 -3.559755  0.080650    -3.965113      0.089691   \n",
       "2      COC         c1ccccc1 -2.498030  0.086817    -2.793950      0.053573   \n",
       "3       CO        Cc1ccncc1 -3.329972  0.079335    -3.965113      0.089691   \n",
       "4      CCC      C=Cc1ccccc1 -1.504559  0.075084    -2.005266      0.048330   \n",
       "\n",
       "   temperature  calc_kTlog_idac  dcalc_kTlog_idac  expt_kTlog_idac  \\\n",
       "0       298.00         3.908525          0.611956         1.826774   \n",
       "1       298.15         0.405358          0.583680        -0.341777   \n",
       "2       279.95         0.295920          0.529887        -0.464866   \n",
       "3       298.15         0.635141          0.581422        -0.524098   \n",
       "4       270.07         0.500708          0.496818         0.755752   \n",
       "\n",
       "  d_expt_kTlog_idac  \n",
       "0               0.1  \n",
       "1               NaN  \n",
       "2              0.03  \n",
       "3               NaN  \n",
       "4              0.03  "
      ]
     },
     "execution_count": 22,
     "metadata": {},
     "output_type": "execute_result"
    }
   ],
   "source": [
    "data.head()"
   ]
  },
  {
   "cell_type": "code",
   "execution_count": 23,
   "metadata": {},
   "outputs": [],
   "source": [
    "# figure out which kTlog(gamma) differ by more then 1.0 kcal/mol from experiment\n",
    "diff = abs(data.calc_kTlog_idac - data.expt_kTlog_idac)\n",
    "diff_idx = diff[diff > 1.0]"
   ]
  },
  {
   "cell_type": "code",
   "execution_count": 24,
   "metadata": {},
   "outputs": [
    {
     "name": "stdout",
     "output_type": "stream",
     "text": [
      "abs(kT log(gamma_exp) - kT log(gamma_calc)) > 1.0 == 92 out of 217\n"
     ]
    }
   ],
   "source": [
    "print(\"abs(kT log(gamma_exp) - kT log(gamma_calc)) > 1.0 == {0} out of {1}\".format(len(diff_idx),len(diff)))"
   ]
  },
  {
   "cell_type": "code",
   "execution_count": 25,
   "metadata": {},
   "outputs": [
    {
     "data": {
      "text/plain": [
       "(-3.0, 8.1)"
      ]
     },
     "execution_count": 25,
     "metadata": {},
     "output_type": "execute_result"
    },
    {
     "data": {
      "image/png": "[encoded data removed]",
      "text/plain": [
       "<matplotlib.figure.Figure at 0x113e63e80>"
      ]
     },
     "metadata": {},
     "output_type": "display_data"
    }
   ],
   "source": [
    "fig = pl.figure(figsize=(7,7))\n",
    "ax = fig.add_subplot(111)\n",
    "ax.plot(data.expt_kTlog_idac, data.calc_kTlog_idac, 'bo')\n",
    "ax.plot([-10.0,10.0], [-10.,10.], 'k-') # y = x\n",
    "ax.plot([-10.0,9.0], [-9.,10.], 'k:') # y = x - 1\n",
    "ax.plot([-10.0,11.0], [-11.,10.], 'k:') # y = x + 1\n",
    "ax.set_xlabel(r\"$k_BT \\cdot \\ln{\\gamma_{expt}}$, $kcal\\cdot mol^{-1}$\", fontsize=16)\n",
    "ax.set_ylabel(r\"$k_BT \\cdot \\ln{\\gamma_{calc}}$, $kcal\\cdot mol^{-1}$\", fontsize=16)\n",
    "ax.set_xlim([-3.0,8.1])\n",
    "ax.set_ylim([-3.0,8.1])\n",
    "\n",
    "#ax.set_xlim([min(list(data.expt_kTlog_idac))-0.3, max(list(data.expt_kTlog_idac))+0.3])\n",
    "#ax.set_ylim([min(list(data.calc_kTlog_idac))-0.3, max(list(data.calc_kTlog_idac))+0.3])\n"
   ]
  },
  {
   "cell_type": "code",
   "execution_count": 26,
   "metadata": {},
   "outputs": [
    {
     "data": {
      "text/html": [
       "<div>\n",
       "<style scoped>\n",
       "    .dataframe tbody tr th:only-of-type {\n",
       "        vertical-align: middle;\n",
       "    }\n",
       "\n",
       "    .dataframe tbody tr th {\n",
       "        vertical-align: top;\n",
       "    }\n",
       "\n",
       "    .dataframe thead th {\n",
       "        text-align: right;\n",
       "    }\n",
       "</style>\n",
       "<table border=\"1\" class=\"dataframe\">\n",
       "  <thead>\n",
       "    <tr style=\"text-align: right;\">\n",
       "      <th></th>\n",
       "      <th>solutes</th>\n",
       "      <th>solvents</th>\n",
       "      <th>DG_solv</th>\n",
       "      <th>dDG_solv</th>\n",
       "      <th>DG_selfsolv</th>\n",
       "      <th>dDG_selfsolv</th>\n",
       "      <th>temperature</th>\n",
       "      <th>calc_kTlog_idac</th>\n",
       "      <th>dcalc_kTlog_idac</th>\n",
       "      <th>expt_kTlog_idac</th>\n",
       "      <th>d_expt_kTlog_idac</th>\n",
       "    </tr>\n",
       "  </thead>\n",
       "  <tbody>\n",
       "    <tr>\n",
       "      <th>193</th>\n",
       "      <td>CCCCO</td>\n",
       "      <td>[H]O[H]</td>\n",
       "      <td>-3.156968</td>\n",
       "      <td>0.114458</td>\n",
       "      <td>-3.363938</td>\n",
       "      <td>0.086911</td>\n",
       "      <td>303.15</td>\n",
       "      <td>0.206970</td>\n",
       "      <td>0.634615</td>\n",
       "      <td>3.443776</td>\n",
       "      <td>0.0192308</td>\n",
       "    </tr>\n",
       "    <tr>\n",
       "      <th>206</th>\n",
       "      <td>CCCCO</td>\n",
       "      <td>CCCCCCCCCCCC(O)=O</td>\n",
       "      <td>-4.697136</td>\n",
       "      <td>0.179861</td>\n",
       "      <td>-5.176619</td>\n",
       "      <td>0.128155</td>\n",
       "      <td>314.24</td>\n",
       "      <td>0.479483</td>\n",
       "      <td>0.784878</td>\n",
       "      <td>0.057324</td>\n",
       "      <td>0.04</td>\n",
       "    </tr>\n",
       "    <tr>\n",
       "      <th>230</th>\n",
       "      <td>CCCCO</td>\n",
       "      <td>CCCCCCC(C)=O</td>\n",
       "      <td>-5.489113</td>\n",
       "      <td>0.126185</td>\n",
       "      <td>-5.987880</td>\n",
       "      <td>0.142704</td>\n",
       "      <td>303.14</td>\n",
       "      <td>0.498767</td>\n",
       "      <td>0.733333</td>\n",
       "      <td>0.686422</td>\n",
       "      <td>0.025</td>\n",
       "    </tr>\n",
       "  </tbody>\n",
       "</table>\n",
       "</div>"
      ],
      "text/plain": [
       "    solutes           solvents   DG_solv  dDG_solv  DG_selfsolv  dDG_selfsolv  \\\n",
       "193   CCCCO            [H]O[H] -3.156968  0.114458    -3.363938      0.086911   \n",
       "206   CCCCO  CCCCCCCCCCCC(O)=O -4.697136  0.179861    -5.176619      0.128155   \n",
       "230   CCCCO       CCCCCCC(C)=O -5.489113  0.126185    -5.987880      0.142704   \n",
       "\n",
       "     temperature  calc_kTlog_idac  dcalc_kTlog_idac  expt_kTlog_idac  \\\n",
       "193       303.15         0.206970          0.634615         3.443776   \n",
       "206       314.24         0.479483          0.784878         0.057324   \n",
       "230       303.14         0.498767          0.733333         0.686422   \n",
       "\n",
       "    d_expt_kTlog_idac  \n",
       "193         0.0192308  \n",
       "206              0.04  \n",
       "230             0.025  "
      ]
     },
     "execution_count": 26,
     "metadata": {},
     "output_type": "execute_result"
    }
   ],
   "source": [
    "data[data.solutes == 'CCCCO']"
   ]
  },
  {
   "cell_type": "code",
   "execution_count": 27,
   "metadata": {},
   "outputs": [
    {
     "data": {
      "text/html": [
       "<div>\n",
       "<style scoped>\n",
       "    .dataframe tbody tr th:only-of-type {\n",
       "        vertical-align: middle;\n",
       "    }\n",
       "\n",
       "    .dataframe tbody tr th {\n",
       "        vertical-align: top;\n",
       "    }\n",
       "\n",
       "    .dataframe thead th {\n",
       "        text-align: right;\n",
       "    }\n",
       "</style>\n",
       "<table border=\"1\" class=\"dataframe\">\n",
       "  <thead>\n",
       "    <tr style=\"text-align: right;\">\n",
       "      <th></th>\n",
       "      <th>solutes</th>\n",
       "      <th>solvents</th>\n",
       "      <th>DG_solv</th>\n",
       "      <th>dDG_solv</th>\n",
       "      <th>DG_selfsolv</th>\n",
       "      <th>dDG_selfsolv</th>\n",
       "      <th>temperature</th>\n",
       "      <th>calc_kTlog_idac</th>\n",
       "      <th>dcalc_kTlog_idac</th>\n",
       "      <th>expt_kTlog_idac</th>\n",
       "      <th>d_expt_kTlog_idac</th>\n",
       "    </tr>\n",
       "  </thead>\n",
       "  <tbody>\n",
       "    <tr>\n",
       "      <th>23</th>\n",
       "      <td>Cc1ccccc1</td>\n",
       "      <td>NC=O</td>\n",
       "      <td>-2.841753</td>\n",
       "      <td>0.130911</td>\n",
       "      <td>-4.557528</td>\n",
       "      <td>0.073432</td>\n",
       "      <td>298.00</td>\n",
       "      <td>1.715775</td>\n",
       "      <td>0.639285</td>\n",
       "      <td>3.869848</td>\n",
       "      <td>0.0493827</td>\n",
       "    </tr>\n",
       "    <tr>\n",
       "      <th>133</th>\n",
       "      <td>Cc1ccccc1</td>\n",
       "      <td>[H]O[H]</td>\n",
       "      <td>-0.885270</td>\n",
       "      <td>0.105905</td>\n",
       "      <td>-3.982142</td>\n",
       "      <td>0.072957</td>\n",
       "      <td>288.15</td>\n",
       "      <td>3.096872</td>\n",
       "      <td>0.598100</td>\n",
       "      <td>8.544096</td>\n",
       "      <td>0.05</td>\n",
       "    </tr>\n",
       "    <tr>\n",
       "      <th>197</th>\n",
       "      <td>Cc1ccccc1</td>\n",
       "      <td>CCCCCCCCCCCC(O)=O</td>\n",
       "      <td>-3.640556</td>\n",
       "      <td>0.201502</td>\n",
       "      <td>-4.289573</td>\n",
       "      <td>0.073949</td>\n",
       "      <td>314.10</td>\n",
       "      <td>0.649017</td>\n",
       "      <td>0.742228</td>\n",
       "      <td>-0.409948</td>\n",
       "      <td>0.04</td>\n",
       "    </tr>\n",
       "  </tbody>\n",
       "</table>\n",
       "</div>"
      ],
      "text/plain": [
       "       solutes           solvents   DG_solv  dDG_solv  DG_selfsolv  \\\n",
       "23   Cc1ccccc1               NC=O -2.841753  0.130911    -4.557528   \n",
       "133  Cc1ccccc1            [H]O[H] -0.885270  0.105905    -3.982142   \n",
       "197  Cc1ccccc1  CCCCCCCCCCCC(O)=O -3.640556  0.201502    -4.289573   \n",
       "\n",
       "     dDG_selfsolv  temperature  calc_kTlog_idac  dcalc_kTlog_idac  \\\n",
       "23       0.073432       298.00         1.715775          0.639285   \n",
       "133      0.072957       288.15         3.096872          0.598100   \n",
       "197      0.073949       314.10         0.649017          0.742228   \n",
       "\n",
       "     expt_kTlog_idac d_expt_kTlog_idac  \n",
       "23          3.869848         0.0493827  \n",
       "133         8.544096              0.05  \n",
       "197        -0.409948              0.04  "
      ]
     },
     "execution_count": 27,
     "metadata": {},
     "output_type": "execute_result"
    }
   ],
   "source": [
    "data[data.solutes == 'Cc1ccccc1']"
   ]
  },
  {
   "cell_type": "code",
   "execution_count": 28,
   "metadata": {},
   "outputs": [],
   "source": [
    "def kcal_to_kBT(energy_value, temperature):\n",
    "    \"\"\" Converts energy values from kcal/mol to kT\n",
    "\n",
    "        VARIABLE          I/O         Type        Description\n",
    "        ----------------------------------------------------------------------------\n",
    "        energy_value      input       float       Energy in kcal/mol\n",
    "        temperature       input       float       Temperature in kelvin\n",
    "        new_energy_value  output      float       Energy in kBT\n",
    "\n",
    "    \"\"\"\n",
    "    kB = 0.238846 * 1.3806488 * 6.02214129/ 1000.0 # Boltzmann's constant (kcal/mol/K)\n",
    "    beta = 1./(kB * temperature)\n",
    "    new_energy_value = energy_value * beta\n",
    "    return new_energy_value\n",
    "\n",
    "def calculate_kTlog_gamma(gamma_expt):\n",
    "    \"\"\" Calculates kT log(gamma) from the experimental value\n",
    "    \"\"\"  \n",
    "    \n",
    "    return np.log(gamma_expt)"
   ]
  },
  {
   "cell_type": "code",
   "execution_count": 10,
   "metadata": {},
   "outputs": [
    {
     "data": {
      "text/plain": [
       "6.56332853565364"
      ]
     },
     "execution_count": 10,
     "metadata": {},
     "output_type": "execute_result"
    }
   ],
   "source": [
    "# butan-1-ol in water, 303.15 K\n",
    "prev =  "
   ]
  },
  {
   "cell_type": "code",
   "execution_count": null,
   "metadata": {},
   "outputs": [],
   "source": []
  }
 ],
 "metadata": {
  "kernelspec": {
   "display_name": "Python 3",
   "language": "python",
   "name": "python3"
  },
  "language_info": {
   "codemirror_mode": {
    "name": "ipython",
    "version": 3
   },
   "file_extension": ".py",
   "mimetype": "text/x-python",
   "name": "python",
   "nbconvert_exporter": "python",
   "pygments_lexer": "ipython3",
   "version": "3.5.4"
  }
 },
 "nbformat": 4,
 "nbformat_minor": 2
}
